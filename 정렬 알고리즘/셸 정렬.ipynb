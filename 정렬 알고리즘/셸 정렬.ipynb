{
 "cells": [
  {
   "cell_type": "markdown",
   "metadata": {},
   "source": [
    "## 셸 정렬\n",
    " - 'Donald L. Shell' 이라는 사람이 제안한 방법으로, 삽입정렬을 보완한 알고리즘이다.\n",
    " - 삽입 정렬이 어느 정도 정렬된 배열에 대해서는 대단히 빠른 것을 착안하여 발생한 알고리즘이다."
   ]
  },
  {
   "cell_type": "markdown",
   "metadata": {},
   "source": [
    "## 셸 정렬의 과정\n",
    "- 먼저 정렬해야 할 리스트를 일정한 기준에 따라 분류한다.\n",
    "- 연속적이지 않은 여러 개의 부분 리스트를 생성한다.\n",
    "- 각 부분 리스트를 삽입 정렬을 이용하여 정려한다.\n",
    "- 모든 부분 리스트가 정렬되면 다시 전체 리스트를 더 적은 개수의 부분 리스트로 만든 후 알고리즘을 반복한다."
   ]
  },
  {
   "cell_type": "markdown",
   "metadata": {},
   "source": [
    "## 셸 정렬(shell sort) 알고리즘의 구체적인 개념\n",
    " - 정렬해야 할 리스트의 각 k번째 요소를 추출해서 부분 리스트를 만든다. 이 때, k를 '간격(gap)'이라 한다.\n",
    "   - 간격의 초기값 : (정렬할 값의 수) / 2\n",
    "   - 생성된 부분 리스트의 개수는 gap과 같다.\n",
    " - 각 회전마다 간격 k를 절반으로 줄인다. 즉, 각 회전이 반복될 때마다 하나의 부분 리스트에 속한 값들의 개수는 증가한다.\n",
    "   - 간격은 홀수로 하는 것이 좋다.\n",
    "   - 간격을 절반으로 줄일 때 짝수가 나오면 +1을 해서 홀수로 만든다.\n",
    "   - 간격 k가 1이 될 때까지 반복한다.\n",
    "\n",
    "- 참고자료 : https://gmlwjd9405.github.io/2018/05/08/algorithm-shell-sort.html"
   ]
  },
  {
   "cell_type": "markdown",
   "metadata": {},
   "source": [
    "### 셸 정렬(shell sort)의 시간복잡도\n",
    "- 평균: T(n) = O(n^1.5)\n",
    "- 최악의 경우: T(n) = O(n^2)"
   ]
  }
 ],
 "metadata": {
  "kernelspec": {
   "display_name": "Python 3",
   "language": "python",
   "name": "python3"
  },
  "language_info": {
   "codemirror_mode": {
    "name": "ipython",
    "version": 3
   },
   "file_extension": ".py",
   "mimetype": "text/x-python",
   "name": "python",
   "nbconvert_exporter": "python",
   "pygments_lexer": "ipython3",
   "version": "3.8.5"
  }
 },
 "nbformat": 4,
 "nbformat_minor": 4
}
