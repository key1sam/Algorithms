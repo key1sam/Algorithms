{
 "cells": [
  {
   "cell_type": "markdown",
   "metadata": {},
   "source": [
    "### Python의 입출력\n",
    " - input() : 문자열을 입력받는다.\n",
    " - map() : 리스트의 모든 원소에 각각 특정한 함수를 적용할 때 사용\n",
    "    - ex) list(map(int, input().split())) : split()은 공백을 기준으로 문자열을 나눈다.\n",
    "    - ex) a, b, c = map(int, input().split())"
   ]
  },
  {
   "cell_type": "code",
   "execution_count": 1,
   "metadata": {},
   "outputs": [
    {
     "name": "stdout",
     "output_type": "stream",
     "text": [
      "3\n",
      "1 2 3\n",
      "3\n",
      "[1, 2, 3]\n"
     ]
    }
   ],
   "source": [
    "n = int(input())\n",
    "data = list(map(int, input().split()))\n",
    "print(n)\n",
    "print(data)"
   ]
  },
  {
   "cell_type": "markdown",
   "metadata": {},
   "source": [
    "### Python의 빠른 입출력\n",
    " - import sys를 활용해서 할 수 있다. \n",
    " - sys는  파이썬 인터프리터가 제공하는 변수와 함수를 직접 제어할 수 있게 해주는 모듈\n",
    " - sys.stdin.readline() 메서드로 입력, input()과 다르게 뒤에 개행문자가(\\n) 추가된다.\n",
    " - rstrip(), lstrip(), strip()으로 각각 오른쪽, 왼쪽, 양쪽 공백(개행)을 없앨 수 있다.\n",
    " - 출력의 경우 sys.stdout.write()"
   ]
  },
  {
   "cell_type": "markdown",
   "metadata": {},
   "source": [
    "### Python 표준 출력 방법\n",
    " - 기본 출력은 print() 함수를 이용합니다.\n",
    "   - 각 변수를 콤마(,)를 이용하여 띄어쓰기로 구분하여 출력할 수 있습니다.\n",
    " - print()는 기본적으로 출력 이후에 줄 바꿈을 수행합니다.\n",
    "   - 줄 바꿈을 원치 않는 경우 'end' 속성을 이용할 수 있습니다."
   ]
  },
  {
   "cell_type": "code",
   "execution_count": 8,
   "metadata": {
    "scrolled": true
   },
   "outputs": [
    {
     "name": "stdout",
     "output_type": "stream",
     "text": [
      "1 2\n",
      "7 8\n",
      "9&10 "
     ]
    }
   ],
   "source": [
    "a = 1\n",
    "b = 2\n",
    "print(a, b)\n",
    "print(7, end = \" \")\n",
    "print(8)\n",
    "print(9, 10, sep = '&', end = \" \") # sep은 출력되는 문자의 사이, end는 마지막부분에 관여"
   ]
  },
  {
   "cell_type": "markdown",
   "metadata": {},
   "source": [
    "### f-string 예제\n",
    " - 파이썬 3.6부터 사용 가능, 문자열 앞에 접두사 'f'를 붙여 사용합니다.\n",
    " - 중괄호 안에 변수명을 기입하여 간단히 문자열과 정수를 함께 넣을 수 있습니다."
   ]
  },
  {
   "cell_type": "code",
   "execution_count": 9,
   "metadata": {},
   "outputs": [
    {
     "name": "stdout",
     "output_type": "stream",
     "text": [
      "정답은 7 입니다.\n"
     ]
    }
   ],
   "source": [
    "answer = 7\n",
    "print(f\"정답은 {answer} 입니다.\")"
   ]
  }
 ],
 "metadata": {
  "kernelspec": {
   "display_name": "Python 3",
   "language": "python",
   "name": "python3"
  },
  "language_info": {
   "codemirror_mode": {
    "name": "ipython",
    "version": 3
   },
   "file_extension": ".py",
   "mimetype": "text/x-python",
   "name": "python",
   "nbconvert_exporter": "python",
   "pygments_lexer": "ipython3",
   "version": "3.8.5"
  }
 },
 "nbformat": 4,
 "nbformat_minor": 4
}
