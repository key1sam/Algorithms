{
 "cells": [
  {
   "cell_type": "markdown",
   "metadata": {},
   "source": [
    "## Python 예외처리\n",
    " - 프로그램 실행 중에 발생하는 에러를 미연에 방지\n",
    " - try-except 구문 사용 시 예외가 발생해도 프로그램이 종료되지 않는다.\n",
    "   ```python:try_except.py\n",
    "   try :\n",
    "     예외가 발생할 수도 있는 코드\n",
    "   except :\n",
    "     예외 발생 시 실행할 코드\n",
    "   else :\n",
    "     예외 발생하지 않을 경우 실행할 코드\n",
    "   finally :\n",
    "     항상 실행할 코드\n",
    "   ```"
   ]
  },
  {
   "cell_type": "code",
   "execution_count": 6,
   "metadata": {},
   "outputs": [
    {
     "name": "stdout",
     "output_type": "stream",
     "text": [
      "원화 금액을 입력하세요. >>>10000\n",
      "환율을 입력하세요. >>>0\n"
     ]
    },
    {
     "ename": "ZeroDivisionError",
     "evalue": "division by zero",
     "output_type": "error",
     "traceback": [
      "\u001b[1;31m---------------------------------------------------------------------------\u001b[0m",
      "\u001b[1;31mZeroDivisionError\u001b[0m                         Traceback (most recent call last)",
      "\u001b[1;32m<ipython-input-6-fef1035d8d6a>\u001b[0m in \u001b[0;36m<module>\u001b[1;34m\u001b[0m\n\u001b[0;32m      3\u001b[0m \u001b[0mdollor\u001b[0m \u001b[1;33m=\u001b[0m \u001b[0minput\u001b[0m\u001b[1;33m(\u001b[0m\u001b[1;34m\"환율을 입력하세요. >>>\"\u001b[0m\u001b[1;33m)\u001b[0m\u001b[1;33m\u001b[0m\u001b[1;33m\u001b[0m\u001b[0m\n\u001b[0;32m      4\u001b[0m \u001b[1;33m\u001b[0m\u001b[0m\n\u001b[1;32m----> 5\u001b[1;33m \u001b[0mprint\u001b[0m\u001b[1;33m(\u001b[0m\u001b[0mint\u001b[0m\u001b[1;33m(\u001b[0m\u001b[0mwon\u001b[0m\u001b[1;33m)\u001b[0m \u001b[1;33m/\u001b[0m \u001b[0mint\u001b[0m\u001b[1;33m(\u001b[0m\u001b[0mdollor\u001b[0m\u001b[1;33m)\u001b[0m\u001b[1;33m)\u001b[0m\u001b[1;33m\u001b[0m\u001b[1;33m\u001b[0m\u001b[0m\n\u001b[0m",
      "\u001b[1;31mZeroDivisionError\u001b[0m: division by zero"
     ]
    }
   ],
   "source": [
    "#원화를 입력, 환율 입력 -> 달러 값을 출력\n",
    "won = input(\"원화 금액을 입력하세요. >>>\")\n",
    "dollor = input(\"환율을 입력하세요. >>>\")\n",
    "\n",
    "print(int(won) / int(dollor))"
   ]
  },
  {
   "cell_type": "code",
   "execution_count": 8,
   "metadata": {},
   "outputs": [
    {
     "name": "stdout",
     "output_type": "stream",
     "text": [
      "나누기 0은 불가능 합니다. division by zero\n",
      "예외가 발생하지 않아도 실행되는 코드입니다.\n"
     ]
    }
   ],
   "source": [
    "try : # 예외가 발생할 수 있는 코드\n",
    "    print(int(won) / int(dollor))\n",
    "except ValueError as e: # 예외 중에서도 ValueError일 때 실행되는 코드\n",
    "    print(\"문자열 예외가 발생했습니다.\", e)\n",
    "except ZeroDivisionError as e: \n",
    "    print(\"나누기 0은 불가능 합니다.\", e)\n",
    "else :\n",
    "    print(\"예외가 발생하지 않을 때 실행되는 코드입니다.\")\n",
    "finally : # 파일을 열고나서 파일을 닫아주는 등 리소스 반환이 필요할 때 사용한다.\n",
    "    print(\"예외가 발생하지 않아도 실행되는 코드입니다.\")"
   ]
  }
 ],
 "metadata": {
  "kernelspec": {
   "display_name": "Python 3",
   "language": "python",
   "name": "python3"
  },
  "language_info": {
   "codemirror_mode": {
    "name": "ipython",
    "version": 3
   },
   "file_extension": ".py",
   "mimetype": "text/x-python",
   "name": "python",
   "nbconvert_exporter": "python",
   "pygments_lexer": "ipython3",
   "version": "3.8.5"
  }
 },
 "nbformat": 4,
 "nbformat_minor": 4
}
