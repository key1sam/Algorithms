{
 "cells": [
  {
   "cell_type": "markdown",
   "metadata": {},
   "source": [
    "### print 함수\n",
    " - 해당 변수 값을 출력\n",
    " - , 로 여러 변수를 나열하면 한줄에 출력"
   ]
  },
  {
   "cell_type": "code",
   "execution_count": 1,
   "metadata": {},
   "outputs": [
    {
     "name": "stdout",
     "output_type": "stream",
     "text": [
      "10 11\n",
      "10 10 11 11\n"
     ]
    }
   ],
   "source": [
    "a = 10\n",
    "b = 11\n",
    "print(a, b)\n",
    "print(a, 10, b, 11)"
   ]
  },
  {
   "cell_type": "markdown",
   "metadata": {},
   "source": [
    "### print 함수 설정\n",
    "  - sep : 구분자, 각 출력할 변수 사이에서 구별하는 역할을 함\n",
    "  - end : 마지막에 출력할 문자열"
   ]
  },
  {
   "cell_type": "code",
   "execution_count": 2,
   "metadata": {},
   "outputs": [
    {
     "name": "stdout",
     "output_type": "stream",
     "text": [
      "10*11*10*100!!"
     ]
    }
   ],
   "source": [
    "print(a, b, 10, 100, sep = '*', end ='!!' )"
   ]
  },
  {
   "cell_type": "markdown",
   "metadata": {},
   "source": [
    "### 변수 값 확인법\n",
    "- print() 함수 사용 (출력만하지 return 값이 있는건 아님)\n",
    "- 변수 값을 코드의 마지막에 위치 시킨 후 실행\n",
    "  - 이 경우 output으로 변수의 값이 출력된다.\n",
    "  - 변수명을 보고 무슨 역할을 하는지 바로 확인하기 위해 변수명 설정이 중요함"
   ]
  },
  {
   "cell_type": "markdown",
   "metadata": {},
   "source": [
    "### reserved keywords (예약어)\n",
    "- python에서 미리 선점하여 사용중인 키워드\n",
    "- for, while, class, try, except, if, elif, else 등은 변수명으로 사용 불가능"
   ]
  },
  {
   "cell_type": "markdown",
   "metadata": {},
   "source": [
    "### type함수\n",
    "- 해당 변수, 값의 타입을 알고자 할때 사용"
   ]
  },
  {
   "cell_type": "code",
   "execution_count": 3,
   "metadata": {},
   "outputs": [
    {
     "data": {
      "text/plain": [
       "float"
      ]
     },
     "execution_count": 3,
     "metadata": {},
     "output_type": "execute_result"
    }
   ],
   "source": [
    "a = 10\n",
    "b = 11.45\n",
    "type(b)"
   ]
  },
  {
   "cell_type": "markdown",
   "metadata": {},
   "source": [
    "### None\n",
    "- 아무런 값을 갖지 않을 때 사용\n",
    "- 일반적으로 변수가 초기값을 갖지 않게하여 해당 변수를 생성할 때 사용\n",
    "- 기타 언어의 NULL, nil 등이 있다."
   ]
  },
  {
   "cell_type": "code",
   "execution_count": 4,
   "metadata": {
    "scrolled": true
   },
   "outputs": [
    {
     "name": "stdout",
     "output_type": "stream",
     "text": [
      "None\n"
     ]
    }
   ],
   "source": [
    "c = None\n",
    "print(c)"
   ]
  },
  {
   "cell_type": "code",
   "execution_count": 1,
   "metadata": {},
   "outputs": [
    {
     "name": "stdout",
     "output_type": "stream",
     "text": [
      "True\n",
      "False\n",
      "True\n",
      "False\n",
      "False\n",
      "True\n",
      "9\n",
      "1\n",
      "20\n",
      "1.25\n",
      "1\n",
      "625\n",
      "1\n",
      "27\n"
     ]
    }
   ],
   "source": [
    "#비교연산자 및 다양한 연산\n",
    "a = 5\n",
    "b = 4\n",
    "print (a > b)\n",
    "print (a < b)\n",
    "print (a >= b)\n",
    "print (a <= b)\n",
    "print (a == b)\n",
    "print (a != b)\n",
    "\n",
    "print(a + b)\n",
    "print(a - b)\n",
    "print(a * b)\n",
    "print(a / b) # python은 float형으로 표현된다.\n",
    "print(a % b)\n",
    "print(a ** b)\n",
    "print(a//b) # python에서 몫을 출력해준다.\n",
    "\n",
    "a = 9\n",
    "# a = a - 3\n",
    "a -= 3 \n",
    "# a = a + 3\n",
    "a += 3\n",
    "# a = a * 3 , 다른 연산도 다 가능하다.\n",
    "a *= 3\n",
    "print(a)"
   ]
  },
  {
   "cell_type": "code",
   "execution_count": 9,
   "metadata": {},
   "outputs": [
    {
     "name": "stdout",
     "output_type": "stream",
     "text": [
      "1 2 3\n",
      "6 2.00\n"
     ]
    }
   ],
   "source": [
    "a, b, c = map(int,input().split())\n",
    "print(a+b+c, format(((a+b+c)/3),'.2f'))"
   ]
  },
  {
   "cell_type": "markdown",
   "metadata": {},
   "source": [
    "### Python에서의 비트연산\n",
    "- 참고 \n",
    "\n",
    ">  *2 를 계산한 값을 출력해도 되지만,\n",
    "  정수를 2배로 곱하거나 나누어 계산해 주는 비트단위시프트연산자 <<, >>를 이용할 수 있다.\n",
    "  컴퓨터 내부에는 2진수 형태로 값들이 저장되기 때문에,\n",
    "  2진수 형태로 저장되어 있는 값들을 왼쪽(<<)이나 오른쪽(>>)으로\n",
    "  지정한 비트 수만큼 밀어주면 2배씩 늘어나거나 1/2로 줄어드는데,\n",
    "\n",
    ">  왼쪽 비트시프트(<<)가 될 때에는 오른쪽에 0이 주어진 개수만큼 추가되고,\n",
    "  오른쪽 비트시프트(>>)가 될 때에는 왼쪽에 0(0 또는 양의 정수인 경우)이나 1(음의 정수인 경우)이 개수만   큼 추가되고, 가장 오른쪽에 있는 1비트는 사라진다.\n",
    "\n",
    ">>  n = 10\n",
    "    print(n<<1)  #10을 2배 한 값인 20 이 출력된다.\n",
    "    print(n>>1)  #10을 반으로 나눈 값인 5 가 출력된다.\n",
    "    print(n<<2)  #10을 4배 한 값인 40 이 출력된다.\n",
    "    print(n>>2)  #10을 반으로 나눈 후 다시 반으로 나눈 값인 2 가 출력된다.\n",
    "\n",
    ">>  정수 10의 2진수 표현은 ... 1010 이다.\n",
    "  10 << 1 을 계산하면 ... 10100 이 된다 이 값은 10진수로 20이다.\n",
    "  10 >> 1 을 계산하면 ... 101 이 된다. 이 값은 10진수로 5이다.\n",
    "\n",
    "- ** python에서 실수 값에 대한 비트시프트 연산은 허용되지 않고 오류가 발생한다.\n",
    "  (실수 값도 컴퓨터 내부적으로는 2진수 형태로 저장되고 비트시프트 처리가 될 수 있지만, python 에서는 \n",
    "  허용하지 않는다.)"
   ]
  },
  {
   "cell_type": "code",
   "execution_count": 1,
   "metadata": {},
   "outputs": [
    {
     "name": "stdout",
     "output_type": "stream",
     "text": [
      "2\n",
      "4\n",
      "8\n"
     ]
    }
   ],
   "source": [
    "a = int(input())\n",
    "print(a<<1)\n",
    "print(a<<2)"
   ]
  },
  {
   "cell_type": "markdown",
   "metadata": {},
   "source": [
    "### 비트단위논리연산"
   ]
  },
  {
   "cell_type": "markdown",
   "metadata": {},
   "source": [
    "입력 된 정수를 비트단위로 참/거짓을 바꾼 후 정수로 출력해보자.\n",
    "비트단위(bitwise)연산자 ~ 를 붙이면 된다.(~ : tilde, 틸드라고 읽는다.)\n",
    "\n",
    "** 비트단위(bitwise) 연산자는,\n",
    "~(bitwise not), &(bitwise and), |(bitwise or), ^(bitwise xor),\n",
    "<<(bitwise left shift), >>(bitwise right shift)\n",
    "가 있다.\n",
    "\n",
    "예를 들어 1이 입력되었을 때 저장되는 1을 32비트 2진수로 표현하면\n",
    "        00000000 00000000 00000000 00000001 이고,\n",
    "~1은 11111111 11111111 11111111 11111110 가 되는데 이는 -2를 의미한다.\n",
    "\n",
    "예시\n",
    "a = 1\n",
    "print(~a) #-2가 출력된다.\n",
    "\n",
    "참고\n",
    "컴퓨터에 저장되는 모든 데이터들은 2진수 형태로 바뀌어 저장된다.\n",
    "0과 1로만 구성되는 비트단위들로 변환되어 저장되는데,\n",
    "양의 정수는 2진수 형태로 바뀌어 저장되고, 음의 정수는 \"2의 보수 표현\"방법으로 저장된다.\n",
    "\n",
    "양의 정수 5를 32비트로 저장하면, \n",
    "\n",
    "5의 2진수 형태인 101이 32비트로 만들어져\n",
    "00000000 00000000 00000000 00000101\n",
    "로 저장된다.(공백은 보기 편하도록 임의로 분리)\n",
    "\n",
    "32비트 형의 정수 0은\n",
    "00000000 00000000 00000000 00000000\n",
    "\n",
    "그리고 -1은 0에서 1을 더 빼고 32비트만 표시하는 형태로\n",
    "11111111 11111111 11111111 11111111 로 저장된다.\n",
    "\n",
    "-2는 -1에서 1을 더 빼면 된다.\n",
    "11111111 11111111 11111111 11111110 로 저장된다.\n",
    "\n",
    "이러한 내용을 간단히 표현하면, 정수 n이라고 할 때,\n",
    "\n",
    "~n = -n - 1\n",
    "-n = ~n + 1 과 같은 관계로 표현할 수 있다.\n",
    "\n",
    "이 관계를 그림으로 그려보면 마치 원형으로 수들이 상대적으로 배치된 것과 같다.\n"
   ]
  }
 ],
 "metadata": {
  "kernelspec": {
   "display_name": "Python 3",
   "language": "python",
   "name": "python3"
  },
  "language_info": {
   "codemirror_mode": {
    "name": "ipython",
    "version": 3
   },
   "file_extension": ".py",
   "mimetype": "text/x-python",
   "name": "python",
   "nbconvert_exporter": "python",
   "pygments_lexer": "ipython3",
   "version": "3.8.5"
  }
 },
 "nbformat": 4,
 "nbformat_minor": 4
}
