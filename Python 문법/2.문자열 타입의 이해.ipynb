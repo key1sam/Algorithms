{
 "cells": [
  {
   "cell_type": "markdown",
   "metadata": {},
   "source": [
    "### 문자열의 표현\n",
    "- \", ' 로 문자열을 넣을 수 있다.\n",
    "- 문자열 내에 \", '를 사용하고 싶으면 ', \"를 사용하여(반대의 기호) 넣어주면된다.\n",
    "- ''', \"\"\" 처럼 세개를 사용하면 enter(줄바꿈)도 문자열에서 사용할 수 있다."
   ]
  },
  {
   "cell_type": "code",
   "execution_count": 9,
   "metadata": {},
   "outputs": [
    {
     "name": "stdout",
     "output_type": "stream",
     "text": [
      "Hello\n",
      "world\n",
      "Hello\n",
      "\n",
      "World\n"
     ]
    }
   ],
   "source": [
    "a = '\"Hello\" world'\n",
    "b = \"'Hello' World\"\n",
    "c = \"\"\"Hello\n",
    "world\"\"\"\n",
    "d = '''Hello\n",
    "\n",
    "World'''\n",
    "\n",
    "print(a)\n",
    "print(c)\n",
    "print(d)"
   ]
  },
  {
   "cell_type": "markdown",
   "metadata": {},
   "source": [
    "### escape string (이스케이프 문자)\n",
    "- 문자열내의 일부 문자의 의미를 달리하여 특정한 효과를 주는 것\n",
    "- \\n : new line, \\t : tab 등"
   ]
  },
  {
   "cell_type": "markdown",
   "metadata": {},
   "source": [
    "### indexing & slicing string (문자열 인덱스 추출)\n",
    "- 문자열의 각 문자는 순서가 있음\n",
    "- 이 때 각 문자열의 순서를 인덱스라고 함\n",
    "- 첫번째 문자부터 마지막까지 차례대로 순서를 가짐\n",
    "- 첫번째 시작문자의 순서는 0으로 시작 (1이 아님)\n",
    "\n",
    "- 문자열의 마지막 순서의 값은?"
   ]
  },
  {
   "cell_type": "code",
   "execution_count": 1,
   "metadata": {},
   "outputs": [
    {
     "name": "stdout",
     "output_type": "stream",
     "text": [
      "e\n"
     ]
    }
   ],
   "source": [
    "a = 'Hello World' # 길이 :11\n",
    "print(a[1])"
   ]
  },
  {
   "cell_type": "markdown",
   "metadata": {},
   "source": [
    "### 인덱스\n",
    "- 다른 언어와 달리 python의 경우 음수 인덱스를 지원한다.\n",
    "- -1이 가장 마지막 인덱스를, -2가 마지막에서 두번째 인덱스를 의미한다."
   ]
  },
  {
   "cell_type": "code",
   "execution_count": 2,
   "metadata": {},
   "outputs": [
    {
     "name": "stdout",
     "output_type": "stream",
     "text": [
      "H\n",
      "d\n",
      "l\n"
     ]
    }
   ],
   "source": [
    "print(a[0])\n",
    "print(a[-1])\n",
    "print(a[-2])"
   ]
  },
  {
   "cell_type": "markdown",
   "metadata": {},
   "source": [
    "### 인덱스의 범위\n",
    "- 인덱스는 0, 문자열의 길이의 범위만 유효\n",
    "- 음수 인덱스의 경우, -문자열의 길이, -1만큼만 길이가 유효하다.\n",
    "- 범위를 넘어갈 경우 에러가 발생한다."
   ]
  },
  {
   "cell_type": "code",
   "execution_count": 4,
   "metadata": {},
   "outputs": [
    {
     "ename": "IndexError",
     "evalue": "string index out of range",
     "output_type": "error",
     "traceback": [
      "\u001b[1;31m---------------------------------------------------------------------------\u001b[0m",
      "\u001b[1;31mIndexError\u001b[0m                                Traceback (most recent call last)",
      "\u001b[1;32m<ipython-input-4-2d7a8bace290>\u001b[0m in \u001b[0;36m<module>\u001b[1;34m\u001b[0m\n\u001b[0;32m      1\u001b[0m \u001b[1;31m#print(a[11])\u001b[0m\u001b[1;33m\u001b[0m\u001b[1;33m\u001b[0m\u001b[1;33m\u001b[0m\u001b[0m\n\u001b[1;32m----> 2\u001b[1;33m \u001b[0mprint\u001b[0m\u001b[1;33m(\u001b[0m\u001b[0ma\u001b[0m\u001b[1;33m[\u001b[0m\u001b[1;33m-\u001b[0m\u001b[1;36m12\u001b[0m\u001b[1;33m]\u001b[0m\u001b[1;33m)\u001b[0m\u001b[1;33m\u001b[0m\u001b[1;33m\u001b[0m\u001b[0m\n\u001b[0m",
      "\u001b[1;31mIndexError\u001b[0m: string index out of range"
     ]
    }
   ],
   "source": [
    "#print(a[11])\n",
    "print(a[-12])"
   ]
  },
  {
   "cell_type": "markdown",
   "metadata": {},
   "source": [
    "### 문자열 Slicing\n",
    "- 인덱스가 하나의 문자만을 추출한다면,\n",
    "- Slicing은 부분 문자열을 추출한다고 볼 수 있다.\n",
    "- [시작:끝]와 같이 명시하여 [시작, 끝]에 해당하는 부분 문자열을 추출\n",
    "- 시작, 끝 인덱스가 생략이 되어 있다면, 0부터 혹은 끝까지로 간주\n",
    "- Slicing의 경우 끝 문자열 -1만큼만 가져온다!"
   ]
  },
  {
   "cell_type": "code",
   "execution_count": 20,
   "metadata": {},
   "outputs": [
    {
     "name": "stdout",
     "output_type": "stream",
     "text": [
      "Hell\n",
      "Hello World\n",
      "ello\n",
      "Hello\n",
      "lo World\n",
      "Hello World\n"
     ]
    }
   ],
   "source": [
    "a = 'Hello World'\n",
    "print(a[0:4]) # 0부터 4까지의 문자열을 가져온다. 이 때 마지막은 포함하지 않는다.\n",
    "print(a[0:11])\n",
    "print(a[1:5])\n",
    "print(a[:5]) # 앞에가 존재하지 않으면 0부터 시작한다.\n",
    "print(a[3:]) # 뒤에가 존재하지 않으면 끝까지 가져온다.\n",
    "print(a[:]) # 처음부터 끝까지 다 가져온다."
   ]
  },
  {
   "cell_type": "markdown",
   "metadata": {},
   "source": [
    "### 문자열 함수\n",
    "- 문자열은 여러가지 기능 제공을 위한 함수를 내장\n",
    "- 함수: 특정 기능을 하는 코드로 언제든지 호출하여 해당 기능을 사용가능하도록 구성한 코드\n",
    "- 추후에 함수에 대해 자세히 다룰 예정"
   ]
  },
  {
   "cell_type": "code",
   "execution_count": 12,
   "metadata": {},
   "outputs": [
    {
     "data": {
      "text/plain": [
       "'HELLO WORLD'"
      ]
     },
     "execution_count": 12,
     "metadata": {},
     "output_type": "execute_result"
    }
   ],
   "source": [
    "a = 'hello world'\n",
    "a.upper()"
   ]
  },
  {
   "cell_type": "markdown",
   "metadata": {},
   "source": [
    "### replace 함수\n",
    "- 문자열 내의 특정 문자를 치환"
   ]
  },
  {
   "cell_type": "code",
   "execution_count": 14,
   "metadata": {},
   "outputs": [
    {
     "data": {
      "text/plain": [
       "'jello world'"
      ]
     },
     "execution_count": 14,
     "metadata": {},
     "output_type": "execute_result"
    }
   ],
   "source": [
    "a = 'hello world'\n",
    "a.replace('h', 'j')"
   ]
  },
  {
   "cell_type": "markdown",
   "metadata": {},
   "source": [
    "### format\n",
    "   - 문자열내의 값을 변수로부터 초기화하여 동적으로 문자열을 생성\n",
    "   - 소수점 몇째자리까지 나타내고 싶을 때도 사용한다."
   ]
  },
  {
   "cell_type": "code",
   "execution_count": 3,
   "metadata": {},
   "outputs": [
    {
     "name": "stdout",
     "output_type": "stream",
     "text": [
      "오늘 기온25.5도 이고, 비올 확률은 80.0%입니다.\n",
      "5 3\n",
      "1.667\n"
     ]
    }
   ],
   "source": [
    "temperature = 25.5\n",
    "prob = 80.0\n",
    "a = '오늘 기온{}도 이고, 비올 확률은 {}%입니다.' .format(temperature, prob)\n",
    "print(a)\n",
    "# 이렇게 할경우 format으로 인해 중괄호에 값이 들어가게 된다.\n",
    "\n",
    "a, b = input().split()\n",
    "result = float(a) / float(b)\n",
    "print(format(result,'.3f')) # 소수점 3번째까지 표기가된다."
   ]
  },
  {
   "cell_type": "markdown",
   "metadata": {},
   "source": [
    "### split\n",
    "   - 문자열을 특정한 문자 구분하여(delimiter) 문자열의 리스트로 치환\n",
    "   - 빈칸으로 나누고 싶은경우 split에 빈칸을 넣으면 되며 'w'를 넣을 시 w를 기준으로 나뉜다."
   ]
  },
  {
   "cell_type": "code",
   "execution_count": 9,
   "metadata": {},
   "outputs": [
    {
     "name": "stdout",
     "output_type": "stream",
     "text": [
      "['hello', 'world', 'what', 'a', 'nice', 'weather']\n",
      "<class 'list'>\n",
      "1 2\n"
     ]
    }
   ],
   "source": [
    "a = 'hello world what a nice weather'\n",
    "result = a.split(' ')\n",
    "print(result)\n",
    "print(type(result))\n",
    "\n",
    "b = [1, 2]\n",
    "c, d = b # list도 언패킹이 가능하다.\n",
    "print(c, d)"
   ]
  },
  {
   "cell_type": "markdown",
   "metadata": {},
   "source": [
    "### input\n",
    "- c언어의 scanf처럼 값을 입력할 수 있으며 python의 경우 input()을 사용할 경우 문자열로 취급한다.\n",
    "- 따라서 input으로 입력받은걸 for문으로 사용할 때 list로 변경해서 사용해주었다.\n",
    "- 그리고 int, float형으로 casting해줘야 사용 가능하다."
   ]
  },
  {
   "cell_type": "code",
   "execution_count": 2,
   "metadata": {},
   "outputs": [
    {
     "name": "stdout",
     "output_type": "stream",
     "text": [
      "1234\n",
      "<class 'str'>\n",
      "<class 'list'>\n",
      "12\n"
     ]
    }
   ],
   "source": [
    "a = input()\n",
    "print(type(a))\n",
    "a = list(a)\n",
    "print(type(a))\n",
    "print(a[0] + a[1])"
   ]
  },
  {
   "cell_type": "markdown",
   "metadata": {},
   "source": [
    "### input() 리스트를 정수로 변환\n",
    "list_a = ['1', '2', '3', '4']   -> list_a = [1, 2, 3, 4] 로 바꾸고 싶을 때,\n",
    "\n",
    "python 2. list_a = map(int, list_a)   \n",
    "\n",
    "python 3. list_a = list(map(int, list_a))\n",
    "\n",
    "를 해주면 된다.\n",
    "\n",
    "\n",
    "혹은 \n",
    "\n",
    "\n",
    "list_a = [int (i) for i in list_a]\n",
    "\n",
    "\n",
    "출처: https://shayete.tistory.com/entry/리스트의-문자열을-int-형태로-변환 [샤의 공간]"
   ]
  },
  {
   "cell_type": "markdown",
   "metadata": {},
   "source": [
    "### 파이썬의 부동 소수점 문제\n",
    "- https://python.flowdas.com/tutorial/floatingpoint.html\n",
    "- 많은 사용자는 값이 표시되는 방식 때문에 근사를 인식하지 못합니다. 파이썬은 기계에 저장된 이진 근삿값의 진짜 십진 값에 대한 십진 근삿값을 인쇄할 뿐입니다. 대부분 기계에서, 만약 파이썬이 0.1로 저장된 이진 근삿값의 진짜 십진 값을 출력한다면 다음과 같이 표시해야 합니다.\n",
    "- 따라서 실수 값끼리 더해서 결과값을 얻을 때 잘못 된 결과를 얻을 수 있으니 항상 반올림 함수를 사용해봐야한다."
   ]
  },
  {
   "cell_type": "markdown",
   "metadata": {},
   "source": [
    "### 반올림, 내림 관련 함수\n",
    "https://wikidocs.net/21113\n",
    "\n",
    "### 올림\n",
    "- math 모듈을 사용한다. math 모듈에는 많은 수학 함수가 있다.\n",
    "> import math #math 모듈을 먼저 import해야 한다.\n",
    "> math.ceil(-3.14)    #결과는 -3\n",
    "> math.ceil(3.14) #결과는 4\n",
    "\n",
    "### 내림\n",
    "> import math\n",
    ">> math.floor(3.14)    #결과는 3\n",
    ">> math.floor(-3.14)   #결과는 -4\n",
    "내림에는 다른 함수가 하나 더 있다. math.trunc()함수이다. 차이점을 예시를 통해 살펴보자.\n",
    "\n",
    "> math.trunc(-3.14)   #결과는 -3\n",
    "> math.floor(-3.14)   #결과는 -4\n",
    "trunc()함수는 내림을 하더라도 0으로 향하는 반면 floor() 함수는 무조건 아래만 향해 내림한다. 참고로 math.trunc()함수는 int()와 같이 결과를 반환한다.\n",
    "\n",
    "> int(-3.14)  #결과는 -3\n",
    "> math.trunc(-3.14)   #결과는 -3\n",
    "\n",
    "### round() 함수\n",
    "반올림\n",
    "파이썬에 내장된 round() 함수를 사용한다.\n",
    "\n",
    "> round(3.1415)   #결과는 3\n",
    "원래 두 개의 인자를 받는데 두 번째 인자가 생략되면 소수 첫째 자리에서 반올림한다. 두 번째 인자를 살펴보자.\n",
    "\n",
    "> round(3.1415, 2)   #결과는 3.14\n",
    "2를 넣었더니 소수 셋째 자리에서 반올림한다. 두 번째 인자에 음수를 사용할 수 있다.\n",
    "\n",
    "> round(31.415, -1)   #결과는 30.0\n",
    "사사오입 원칙\n",
    "round()는 사사오입 원칙을 따른다. 반올림할 자리의 수가 5이면 반올림 할 때 앞자리의 숫자가 짝수면 내림하고 홀수면 올림 한다.\n",
    "\n",
    "> round(4.5)  #결과는 4\n",
    "> round(3.5)  #결과는 4\n",
    "앞의 자리가 4인 경우 짝수니까 내림이 되었고 앞의 자리가 3인 경우 홀수니까 올림이 적용되었다."
   ]
  },
  {
   "cell_type": "markdown",
   "metadata": {},
   "source": [
    "### Python에서 10진수를 16진수로 출력\n",
    "- a = input()\n",
    "- n = int(a)            #입력된 a를 10진수 값으로 변환해 변수 n에 저장\n",
    "- print('%x'% n) "
   ]
  },
  {
   "cell_type": "code",
   "execution_count": 3,
   "metadata": {},
   "outputs": [
    {
     "name": "stdout",
     "output_type": "stream",
     "text": [
      "16\n",
      "10\n"
     ]
    }
   ],
   "source": [
    "a = input()\n",
    "n = int(a)\n",
    "print('%x'%n)"
   ]
  },
  {
   "cell_type": "markdown",
   "metadata": {},
   "source": [
    "### Python에서 10진수를 16진수로 인식 후 8진수로 출력"
   ]
  },
  {
   "cell_type": "code",
   "execution_count": 4,
   "metadata": {},
   "outputs": [
    {
     "name": "stdout",
     "output_type": "stream",
     "text": [
      "20\n",
      "40\n"
     ]
    }
   ],
   "source": [
    "# 10진수를 16진수로 입력받은 후 8진수로 출력하기\n",
    "a = input()\n",
    "n = int(a, 16)  #입력된 a를 16진수로 인식해 변수 n에 저장\n",
    "print('%o' %n)  #n에 저장되어있는 값을 8진수(octal) 형태 문자열로 출력"
   ]
  },
  {
   "cell_type": "markdown",
   "metadata": {},
   "source": [
    "### Python에서 문자 입력하고 유니코드 숫자 출력하기\n",
    "- n = ord(input())\n",
    "- print(n)\n",
    "\n",
    "- 참고\n",
    "- n = ord(input())  #입력받은 문자를 10진수 유니코드 값으로 변환한 후, n에 저장한다.\n",
    "\n",
    "- ord( ) 는 어떤 문자의 순서 위치(ordinal position) 값을 의미한다.  \n",
    "- 실제로 각각의 문자들에는 연속된 정수 값이 순서에 따라 부여 되어 있다. A:65, B:66, C:67 .... \n",
    "- ord(c) : 문자 c 를 10진수로 변환한 값 \n",
    "\n",
    "- 컴퓨터로 저장되고 처리되는 모든 데이터들은 2진수 형태로 정수화 되어야 하는데,\n",
    "- 컴퓨터에 문자를 저장하는 방법으로 아스키코드(ASCII Code)나 유니코드(Unicode)가 자주 사용된다.\n",
    "\n",
    "- 예를 들어, 영문 대문자 'A'는 10진수 값 65 로 표현하고, \n",
    "- 2진수(binary digit) 값 1000001 로 바꾸어 컴퓨터 내부에 저장한다. \n",
    "\n",
    "- 유니코드(unicode)는 세계 여러 나라의 문자를 공통된 코드 값으로 저장할 때 사용하는 표준 코드이다."
   ]
  },
  {
   "cell_type": "code",
   "execution_count": 7,
   "metadata": {},
   "outputs": [
    {
     "name": "stdout",
     "output_type": "stream",
     "text": [
      "A\n",
      "65\n",
      "a\n",
      "97\n"
     ]
    }
   ],
   "source": [
    "# 문자를 입력하면 그 위치값을 표시해준다.\n",
    "n = ord(input()) \n",
    "print(n)\n",
    "\n",
    "k = ord(input())\n",
    "print(k)"
   ]
  },
  {
   "cell_type": "markdown",
   "metadata": {},
   "source": [
    "### Python에서 정수를 입력받고 Unicode문자를 출력하기"
   ]
  },
  {
   "cell_type": "code",
   "execution_count": 8,
   "metadata": {},
   "outputs": [
    {
     "name": "stdout",
     "output_type": "stream",
     "text": [
      "65\n",
      "A\n"
     ]
    }
   ],
   "source": [
    "n = input()\n",
    "n = int(n) # 이때 숫자를 입력해야하기에 int로 casting을 해주어야한다.\n",
    "print(chr(n))"
   ]
  }
 ],
 "metadata": {
  "kernelspec": {
   "display_name": "Python 3",
   "language": "python",
   "name": "python3"
  },
  "language_info": {
   "codemirror_mode": {
    "name": "ipython",
    "version": 3
   },
   "file_extension": ".py",
   "mimetype": "text/x-python",
   "name": "python",
   "nbconvert_exporter": "python",
   "pygments_lexer": "ipython3",
   "version": "3.8.5"
  }
 },
 "nbformat": 4,
 "nbformat_minor": 4
}
