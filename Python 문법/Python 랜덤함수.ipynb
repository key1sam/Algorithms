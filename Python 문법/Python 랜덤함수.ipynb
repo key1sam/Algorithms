{
 "cells": [
  {
   "cell_type": "markdown",
   "metadata": {},
   "source": [
    "## Python 랜덤함수\n",
    " - import randrom을 통해 관련 모듈을 활용할 수 있다.\n",
    " - 아래에서 설명되는 함수는 파이썬 3.8을 기준으로 하고있습니다.\n"
   ]
  },
  {
   "cell_type": "markdown",
   "metadata": {},
   "source": [
    "#### random.random( )\n",
    " - 0.0에서부터 1.0 사이의 실수(float)을 반환해줍니다. (0.0 <= x < 1.0)"
   ]
  },
  {
   "cell_type": "code",
   "execution_count": 2,
   "metadata": {},
   "outputs": [
    {
     "name": "stdout",
     "output_type": "stream",
     "text": [
      "0.7288040415720084\n"
     ]
    }
   ],
   "source": [
    "import random\n",
    "print(random.random())"
   ]
  },
  {
   "cell_type": "markdown",
   "metadata": {},
   "source": [
    "#### random.uniform(a, b)\n",
    " - a ~ b 사이의 실수(float)을 반환해줍니다. (a <= x <= b)"
   ]
  },
  {
   "cell_type": "code",
   "execution_count": 3,
   "metadata": {},
   "outputs": [
    {
     "name": "stdout",
     "output_type": "stream",
     "text": [
      "20.10076138069791\n"
     ]
    }
   ],
   "source": [
    "print(random.uniform(1, 45))"
   ]
  },
  {
   "cell_type": "markdown",
   "metadata": {},
   "source": [
    "#### random.randint(a , b)\n",
    " - a, b 사이의 랜덤한 정수(int)를 반환해줍니다. (a <= x <= b)"
   ]
  },
  {
   "cell_type": "code",
   "execution_count": 3,
   "metadata": {},
   "outputs": [
    {
     "name": "stdout",
     "output_type": "stream",
     "text": [
      "33\n"
     ]
    }
   ],
   "source": [
    "print(random.randint(1,45))"
   ]
  },
  {
   "cell_type": "markdown",
   "metadata": {},
   "source": [
    "#### random.randrange(a,b)\n",
    " - a, b 사이의 정수(int)를 반환해주는데 b는 포함하지 않는다. (a <= x < b)\n",
    " - random.randrange(b)의 경우 매개변수가 1개이다. 이때는 0 <= x < b 의 정수를 출력해준다."
   ]
  },
  {
   "cell_type": "code",
   "execution_count": 43,
   "metadata": {},
   "outputs": [
    {
     "name": "stdout",
     "output_type": "stream",
     "text": [
      "35\n",
      "1\n"
     ]
    }
   ],
   "source": [
    "print(random.randrange(1,45))\n",
    "print(random.randrange(45))"
   ]
  },
  {
   "cell_type": "markdown",
   "metadata": {},
   "source": [
    "#### random.choice(seq)\n",
    " - choice 함수는 매개변수로 sequence 타입을 받습니다. sequence타입은 문자열, 튜플, range, 리스트 타입등을 의미합니다.\n",
    " - 인자로 받은 리스트, 튜플, 문자열, range 에서 무작위로 하나의 원소를 뽑습니다.\n",
    " - 비어있는 sequence 타입의 객체를 인자로 넣는다면 예외가 발생합니다."
   ]
  },
  {
   "cell_type": "code",
   "execution_count": 7,
   "metadata": {},
   "outputs": [
    {
     "name": "stdout",
     "output_type": "stream",
     "text": [
      "[0, 1, 2, 3, 4, 5, 6, 7, 8, 9, 10, 11, 12, 13, 14, 15, 16, 17, 18, 19]\n",
      "18\n"
     ]
    }
   ],
   "source": [
    "import random\n",
    "\n",
    "num_list = []\n",
    "for i in range(20) :\n",
    "    num_list.append(i)\n",
    "print(num_list)\n",
    "\n",
    "print(random.choice(num_list))"
   ]
  },
  {
   "cell_type": "markdown",
   "metadata": {},
   "source": [
    "#### random.shuffle(seq)\n",
    "- shuffle은 sequence 데이터 순서를 무작위로 바꾸어 주는 함수 입니다.\n",
    "- 매개변수는 sequence 데이터 타입이 들어가게 됩니다. \n",
    "- 내부의 값을 무작위로 바꿔야 하기 때문에 내부인자를 변경할 수 있는 리스트만 가능하게 됩니다. (문자열, 튜플 및 range(a,b)는 불가능)"
   ]
  },
  {
   "cell_type": "code",
   "execution_count": 12,
   "metadata": {},
   "outputs": [
    {
     "name": "stdout",
     "output_type": "stream",
     "text": [
      "[0, 17, 12, 14, 18, 16, 15, 1, 4, 5, 2, 13, 9, 19, 8, 7, 3, 6, 11, 10]\n",
      "[17, 2, 13, 6, 7, 8, 18, 3, 12, 9, 0, 11, 1, 15, 14, 4, 10, 16, 5, 19]\n"
     ]
    }
   ],
   "source": [
    "print(num_list)\n",
    "random.shuffle(num_list)\n",
    "print(num_list)"
   ]
  },
  {
   "cell_type": "markdown",
   "metadata": {},
   "source": [
    "#### random.sample(seq or set, N)\n",
    " - sample은 첫번째 인자로 받은 sequence or set에서 N개의 랜덤하고, unique하고, 순서상관없이 인자를 뽑아 리스트로 만들어서 반환합니다.\n",
    " - 첫번째 매개 변수는 sequence 데이터 타입(튜플, 문자열, range, 리스트) 또는 set 타입을 입력합니다.\n",
    " - 두번째 매개 변수로는 랜덤하게 뽑을 인자의 개수를 입력합니다."
   ]
  },
  {
   "cell_type": "markdown",
   "metadata": {},
   "source": [
    "#### ※ unique는 겹치지 않는 element를 반환한다는 뜻입니다.\n",
    " - 'abc' 라는 문자열 있다고 할때 N에 2를 넣을때 겹치지 않게 a,b 혹은 b,c 혹은 c,a를 반환합니다. (순서 상관없음)\n",
    " - 'aaa' 라는 문자열이 있다고 할때 N에 2를 넣으면 겹치지 않게 a,a, 혹은 a,a 혹은 a,a 를 반환합니다. (순서 상관없음)\n",
    " - 값이 중요한게 아니라 배열의 위치가 겹치지 않게 unique하게 뽑는 것을 의미합니다.\n",
    " - example) str = 'aaa'가 있을때 str[0],str[1] or str[1],str[2] or str[2],str[0] 을 뽑는다는 것 입니다.\n",
    " - 만약에 두번째 매개변수 N이 seq, set의 인자의 개수를 넘어갈때 valueError가 발생합니다. \n",
    " - 'abc'라는 문자열을 첫번째 인자로 넣고, 두번째 인자 N를 3을 넘어가는 수인 10을 넣었다고 한다면 valueError가 발생합니다."
   ]
  },
  {
   "cell_type": "code",
   "execution_count": 18,
   "metadata": {},
   "outputs": [
    {
     "name": "stdout",
     "output_type": "stream",
     "text": [
      "['c', 'a']\n"
     ]
    }
   ],
   "source": [
    "str = 'abc'\n",
    "print(random.sample(str, 2))"
   ]
  }
 ],
 "metadata": {
  "kernelspec": {
   "display_name": "Python 3",
   "language": "python",
   "name": "python3"
  },
  "language_info": {
   "codemirror_mode": {
    "name": "ipython",
    "version": 3
   },
   "file_extension": ".py",
   "mimetype": "text/x-python",
   "name": "python",
   "nbconvert_exporter": "python",
   "pygments_lexer": "ipython3",
   "version": "3.8.5"
  }
 },
 "nbformat": 4,
 "nbformat_minor": 4
}
